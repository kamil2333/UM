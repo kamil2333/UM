{
  "cells": [
    {
      "cell_type": "code",
      "execution_count": 8,
      "id": "c085ef21",
      "metadata": {},
      "outputs": [
        {
          "name": "stdout",
          "output_type": "stream",
          "text": [
            "Model 'pl_core_news_sm' załadowany pomyślnie.\n",
            "\n",
            "--- Przykładowy artykuł prasowy do analizy ---\n",
            "\n",
            "Wczoraj, w Krakowie, spotkałem się z Anną Kowalską i Piotrem Nowakiem w kawiarni \"U Starego Piernika\"\n",
            "na Rynku Głównym. Rozmawialiśmy o nadchodzącej konferencji \"Innowacje 2024\", która odbędzie się w Warszawie w Pałacu Kultury i Nauki.\n",
            "Anna jest ekspertem od sztucznej inteligencji w firmie \"TechSolutions\", a Piotr pracuje w Banku Polskim na stanowisku analityka.\n",
            "Po spotkaniu poszedłem do Muzeum Narodowego, aby obejrzeć wystawę Jana Matejki. Wieczorem wybrałem się do kina \"Kino Kultura\" na\n",
            "film \"Oppenheimer\" w reżyserii Christophera Nolana. Dziś planuję wycieczkę do Zakopanego i wspinaczkę na Giewont.\n",
            "Mam nadzieję, że pogoda dopisze, bo prognozy z Instytutu Meteorologii i Gospodarki Wodnej nie wyglądają obiecująco.\n",
            "\n",
            "\n",
            "--- Rozpoznane nazwy własne (Named Entities) ---\n",
            "Tekst: 'Krakowie' | Typ: 'placeName'\n",
            "Tekst: 'Anną Kowalską' | Typ: 'persName'\n",
            "Tekst: 'Piotrem Nowakiem' | Typ: 'persName'\n",
            "Tekst: '\"U Starego Piernika\"' | Typ: 'geogName'\n",
            "Tekst: 'Rynku Głównym' | Typ: 'geogName'\n",
            "Tekst: 'Warszawie' | Typ: 'placeName'\n",
            "Tekst: 'Pałacu Kultury i Nauki' | Typ: 'geogName'\n",
            "Tekst: 'Anna' | Typ: 'persName'\n",
            "Tekst: 'Piotr' | Typ: 'persName'\n",
            "Tekst: 'Banku Polskim' | Typ: 'orgName'\n",
            "Tekst: 'Muzeum Narodowego' | Typ: 'orgName'\n",
            "Tekst: 'Jana Matejki' | Typ: 'persName'\n",
            "Tekst: 'Christophera Nolana' | Typ: 'persName'\n",
            "Tekst: 'Zakopanego' | Typ: 'placeName'\n",
            "Tekst: 'Giewont' | Typ: 'geogName'\n",
            "Tekst: 'Instytutu Meteorologii i Gospodarki Wodnej' | Typ: 'orgName'\n"
          ]
        }
      ],
      "source": [
        "import spacy\n",
        "\n",
        "try:\n",
        "    nlp = spacy.load(\"pl_core_news_sm\")\n",
        "    print(\"Model 'pl_core_news_sm' załadowany pomyślnie.\")\n",
        "except OSError:\n",
        "    print(\"Model 'pl_core_news_sm' nie został znaleziony.\")\n",
        "    print(\"Proszę uruchomić w terminalu: python -m spacy download pl_core_news_sm\")\n",
        "    print(\"Następnie spróbuj ponownie.\")\n",
        "    exit()\n",
        "\n",
        "article_text = \"\"\"\n",
        "Wczoraj, w Krakowie, spotkałem się z Anną Kowalską i Piotrem Nowakiem w kawiarni \"U Starego Piernika\"\n",
        "na Rynku Głównym. Rozmawialiśmy o nadchodzącej konferencji \"Innowacje 2024\", która odbędzie się w Warszawie w Pałacu Kultury i Nauki.\n",
        "Anna jest ekspertem od sztucznej inteligencji w firmie \"TechSolutions\", a Piotr pracuje w Banku Polskim na stanowisku analityka.\n",
        "Po spotkaniu poszedłem do Muzeum Narodowego, aby obejrzeć wystawę Jana Matejki. Wieczorem wybrałem się do kina \"Kino Kultura\" na\n",
        "film \"Oppenheimer\" w reżyserii Christophera Nolana. Dziś planuję wycieczkę do Zakopanego i wspinaczkę na Giewont.\n",
        "Mam nadzieję, że pogoda dopisze, bo prognozy z Instytutu Meteorologii i Gospodarki Wodnej nie wyglądają obiecująco.\n",
        "\"\"\"\n",
        "\n",
        "print(\"\\n--- Przykładowy artykuł prasowy do analizy ---\")\n",
        "print(article_text)\n",
        "\n",
        "doc = nlp(article_text)\n",
        "\n",
        "print(\"\\n--- Rozpoznane nazwy własne (Named Entities) ---\")\n",
        "\n",
        "\n",
        "if doc.ents:\n",
        "    for ent in doc.ents:\n",
        "\n",
        "        print(f\"Tekst: '{ent.text}' | Typ: '{ent.label_}'\")\n",
        "else:\n",
        "    print(\"Nie znaleziono żadnych nazw własnych w podanym tekście.\")\n"
      ]
    }
  ],
  "metadata": {
    "kernelspec": {
      "display_name": "Python 3",
      "language": "python",
      "name": "python3"
    },
    "language_info": {
      "codemirror_mode": {
        "name": "ipython",
        "version": 3
      },
      "file_extension": ".py",
      "mimetype": "text/x-python",
      "name": "python",
      "nbconvert_exporter": "python",
      "pygments_lexer": "ipython3",
      "version": "3.11.9"
    },
    "orig_nbformat": 4
  },
  "nbformat": 4,
  "nbformat_minor": 5
}
